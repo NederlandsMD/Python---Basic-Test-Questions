{
 "cells": [
  {
   "cell_type": "code",
   "execution_count": 1,
   "metadata": {},
   "outputs": [],
   "source": [
    "import pandas as pd\n",
    "import numpy as np"
   ]
  },
  {
   "cell_type": "code",
   "execution_count": 22,
   "metadata": {},
   "outputs": [
    {
     "name": "stdout",
     "output_type": "stream",
     "text": [
      "What numbers go in list 1? (separate with comma)1,2,3\n",
      "What numbers go in list 2? (sep. with comma)2,2,2\n",
      "Your lists are not the same\n"
     ]
    }
   ],
   "source": [
    "# Write a function that determines if two lists of numbers are equal \n",
    "\n",
    "list1 = []\n",
    "list2 = []\n",
    "\n",
    "lister = input(\"What numbers go in list 1? (separate with comma)\")\n",
    "lister2 = input(\"What numbers go in list 2? (sep. with comma)\")\n",
    "\n",
    "list1 = lister.split(\",\")\n",
    "list1 = [int(list) for list in list1]\n",
    "list2 = lister2.split(\",\")\n",
    "list2 = [int(list) for list in list2]\n",
    "\n",
    "## Easy way, numbers have to occupy same position\n",
    "counter = 0\n",
    "for i in range(len(list1)):\n",
    "    if list1[i] != list2[i]:\n",
    "        print(\"Your lists are not the same\")\n",
    "        counter += 1\n",
    "        break\n",
    "\n",
    "if counter==0:        \n",
    "    print(\"Your lists are the same\")\n"
   ]
  },
  {
   "cell_type": "code",
   "execution_count": 32,
   "metadata": {},
   "outputs": [
    {
     "name": "stdout",
     "output_type": "stream",
     "text": [
      "What numbers go in list 1? (separate with comma)3,2,1\n",
      "What numbers go in list 2? (sep. with comma)3,2,1,1\n",
      "Your lists are not the same\n"
     ]
    }
   ],
   "source": [
    "list1 = []\n",
    "list2 = []\n",
    "\n",
    "lister = input(\"What numbers go in list 1? (separate with comma)\")\n",
    "lister2 = input(\"What numbers go in list 2? (sep. with comma)\")\n",
    "\n",
    "list1 = lister.split(\",\")\n",
    "list1 = [int(list) for list in list1]\n",
    "list2 = lister2.split(\",\")\n",
    "list2 = [int(list) for list in list2]\n",
    "\n",
    "## Hard way, numbers do not need to occupy same position\n",
    "bigcount = 0\n",
    "for i in range(len(list1)):\n",
    "    lilcount = 0\n",
    "    for j in range(len(list2)):\n",
    "        if list1[i] == list2[j]:\n",
    "            lilcount += 1\n",
    "            list2[j] = -9999\n",
    "            break\n",
    "    if lilcount == 0:\n",
    "        print(\"Your lists are not equal\")\n",
    "        bigcount += 1\n",
    "        break\n",
    "        \n",
    "for list in list2:\n",
    "    if list != -9999:\n",
    "        print(\"Your lists are not the same\")\n",
    "        bigcount += 1\n",
    "        \n",
    "if bigcount == 0:\n",
    "    print(\"Your lists are the same\")"
   ]
  },
  {
   "cell_type": "code",
   "execution_count": 9,
   "metadata": {},
   "outputs": [
    {
     "name": "stdout",
     "output_type": "stream",
     "text": [
      "What numbers go in list 1? (separate with comma)1,5,8,10\n",
      "What numbers go in list 2? (sep. with comma)1,10,8,5\n",
      "Your lists are the same\n"
     ]
    }
   ],
   "source": [
    "list1 = []\n",
    "list2 = []\n",
    "\n",
    "lister = input(\"What numbers go in list 1? (separate with comma)\")\n",
    "lister2 = input(\"What numbers go in list 2? (sep. with comma)\")\n",
    "\n",
    "list1 = lister.split(\",\")\n",
    "list1 = [int(list) for list in list1]\n",
    "list2 = lister2.split(\",\")\n",
    "list2 = [int(list) for list in list2]\n",
    "\n",
    "## Hard way, numbers do not need to occupy same position\n",
    "for i in range(len(list1)):\n",
    "    for j in range(len(list2)):\n",
    "        if list1[i] == list2[j]:\n",
    "            list1[i] = -9999\n",
    "            list2[j] = -9999\n",
    "            break\n",
    "\n",
    "count = 0            \n",
    "for list in list2:\n",
    "    if list != -9999:\n",
    "        print(\"Your lists are not the same\")\n",
    "        count +=1\n",
    "        break\n",
    "        \n",
    "if count == 0:\n",
    "    for list in list1:\n",
    "        if list != -9999:\n",
    "            print(\"Your lists are not the same\")\n",
    "            count += 1\n",
    "            break\n",
    "        \n",
    "if count == 0:\n",
    "    print(\"Your lists are the same\")"
   ]
  },
  {
   "cell_type": "code",
   "execution_count": 14,
   "metadata": {},
   "outputs": [
    {
     "name": "stdout",
     "output_type": "stream",
     "text": [
      "What is your input string? briansalant\n",
      "['b', 'r', 'i', 'a', 'n', 's', 'a', 'l', 'a', 'n', 't']\n",
      "{'b': 1, 'r': 1, 'i': 1, 'a': 3, 'n': 2, 's': 1, 'l': 1, 't': 1}\n"
     ]
    }
   ],
   "source": [
    "# Write a function that counts how many times each letter in a string\n",
    "# occurs. Count letters in word \"interview\"\n",
    "inputstring = input(\"What is your input string? \")\n",
    "inputs = [c for c in inputstring]\n",
    "print(inputs)\n",
    "lettcount = {}\n",
    "for s in inputs:\n",
    "    if s in lettcount:\n",
    "        lettcount[s] += 1\n",
    "    else:\n",
    "        lettcount[s] = 1\n",
    "\n",
    "#for h in inputs:\n",
    "#    lettcount[h] += 1\n",
    "\n",
    "print(lettcount)"
   ]
  },
  {
   "cell_type": "code",
   "execution_count": 21,
   "metadata": {},
   "outputs": [
    {
     "name": "stdout",
     "output_type": "stream",
     "text": [
      "Type in a few integers, separated by commas: 12,41,14,7,9,25\n",
      "41 x 25 = 1025\n"
     ]
    }
   ],
   "source": [
    "# Write a function that accepts an array of integers and returns the \n",
    "# largest number we can get by multiplying two of them\n",
    "\n",
    "myInt = input(\"Type in a few integers, separated by commas: \")\n",
    "intArray = myInt.split(\",\")\n",
    "intArray = [int(num) for num in intArray]\n",
    "intArray.sort(reverse=True)\n",
    "multi = intArray[0] * intArray[1]\n",
    "print(str(intArray[0]) + \" x \" + str(intArray[1]) + \" = \" + str(multi))\n"
   ]
  },
  {
   "cell_type": "code",
   "execution_count": 31,
   "metadata": {},
   "outputs": [
    {
     "name": "stdout",
     "output_type": "stream",
     "text": [
      "Input an array of elements, separated by commas: 1,12,13,14,13,31,78,15,92,13\n",
      "['1', '12', '13', '14', '13', '31', '78', '15', '92', '13']\n",
      "['1', '12', '13', '14', '31', '78', '15', '92']\n",
      "[1, 1, 3, 1, 1, 1, 1, 1]\n",
      "13\n"
     ]
    }
   ],
   "source": [
    "# Write a function that finds the most frequent element in an array\n",
    "arr = input(\"Input an array of elements, separated by commas: \")\n",
    "arr = arr.split(\",\")\n",
    "print(arr)\n",
    "arruq = []\n",
    "arruq_fq = []\n",
    "for x in arr:\n",
    "    if x not in arruq:\n",
    "        arruq.append(x)\n",
    "        \n",
    "for x in arruq:\n",
    "    arruq_fq.append(0)\n",
    "\n",
    "for i in range(len(arr)):\n",
    "    position = arruq.index(arr[i])\n",
    "    arruq_fq[position] += 1\n",
    "print(arruq)\n",
    "print(arruq_fq)\n",
    "\n",
    "max_inx = arruq_fq.index(max(arruq_fq))\n",
    "print(arruq[max_inx])"
   ]
  },
  {
   "cell_type": "code",
   "execution_count": 39,
   "metadata": {},
   "outputs": [
    {
     "name": "stdout",
     "output_type": "stream",
     "text": [
      "Please input a string: Oh My Science!\n",
      "Oh My Science! and !ecneicS yM hO. This is not a pallindrome\n"
     ]
    }
   ],
   "source": [
    "# Write a function that determines if its string argument is a \n",
    "# palindrome\n",
    "\n",
    "stringipt = input(\"Please input a string: \")\n",
    "string_back = stringipt[::-1]\n",
    "if stringipt == string_back:\n",
    "    print(stringipt + \" and \" + string_back + \". This is a pallindrome\")\n",
    "else:\n",
    "    print(stringipt + \" and \" + string_back + \". This is not a pallindrome\")"
   ]
  },
  {
   "cell_type": "code",
   "execution_count": null,
   "metadata": {},
   "outputs": [],
   "source": []
  }
 ],
 "metadata": {
  "kernelspec": {
   "display_name": "Python 3",
   "language": "python",
   "name": "python3"
  },
  "language_info": {
   "codemirror_mode": {
    "name": "ipython",
    "version": 3
   },
   "file_extension": ".py",
   "mimetype": "text/x-python",
   "name": "python",
   "nbconvert_exporter": "python",
   "pygments_lexer": "ipython3",
   "version": "3.6.5"
  }
 },
 "nbformat": 4,
 "nbformat_minor": 2
}
